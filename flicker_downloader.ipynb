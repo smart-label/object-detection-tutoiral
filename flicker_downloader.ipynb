{
 "cells": [
  {
   "cell_type": "code",
   "execution_count": 19,
   "metadata": {},
   "outputs": [],
   "source": [
    "from flickrapi import FlickrAPI  # https://pypi.python.org/pypi/flickrapi\n",
    "import urllib\n",
    "import os\n",
    "from random import randint\n",
    "import time\n",
    "from json import load"
   ]
  },
  {
   "cell_type": "code",
   "execution_count": 23,
   "metadata": {},
   "outputs": [
    {
     "name": "stdout",
     "output_type": "stream",
     "text": [
      "key=010d425e39b6ff085b3381ed1407e585, sec=8fb09d682a4868fd, outputfolder=images\n"
     ]
    }
   ],
   "source": [
    "# load configuration from .env file\n",
    "with open('.env') as f:\n",
    "    config = load(f)\n",
    "\n",
    "assert len(config.get('API_KEY', '')) == 32, 'API_KEY must be present in a file .env'\n",
    "assert len(config.get('API_SECRET', '')) == 16, 'API_SECRET must be present in a file .env'\n",
    "\n",
    "IMG_FOLDER = 'images'\n",
    "print(f\"key={config.get('API_KEY', '')}, sec={config.get('API_SECRET', '')}, outputfolder={IMG_FOLDER}\")"
   ]
  },
  {
   "cell_type": "code",
   "execution_count": 24,
   "metadata": {},
   "outputs": [],
   "source": [
    "# Copyright 2014-2017 Bert Carremans\n",
    "# Author: Bert Carremans <bertcarremans.be>\n",
    "#\n",
    "# License: BSD 3 clause\n",
    "def download_flickr_photos(keywords, size='medium', max_nb_img=-1):\n",
    "    \"\"\"\n",
    "    Downloads images based on keyword search on the Flickr website\n",
    "    \n",
    "    Parameters\n",
    "    ----------\n",
    "    keywords : string, list of strings\n",
    "        Keyword to search for or a list of keywords should be given.\n",
    "    size : one of the following strings 'thumbnail', 'square', 'medium', default: 'original'.\n",
    "        Size of the image to download. In this function we only provide\n",
    "        four options. More options are explained at \n",
    "        http://librdf.org/flickcurl/api/flickcurl-searching-search-extras.html\n",
    "    max_nb_img : int, default: -1\n",
    "        Maximum number of images per keyword to download. If given a value of -1, all images\n",
    "        will be downloaded\n",
    "    \n",
    "    Returns\n",
    "    ------\n",
    "    Images found based on the keyword are saved in a separate subfolder.\n",
    "    \n",
    "    Notes\n",
    "    -----\n",
    "    This function uses the Python package flickrapi and its walk method. \n",
    "    FlickrAPI.walk has same parameters as FlickrAPI.search\n",
    "    http://www.flickr.com/services/api/flickr.photos.search.html\n",
    "    \n",
    "    To use the Flickr API a set of API keys needs to be created on \n",
    "    https://www.flickr.com/services/api/misc.api_keys.html\n",
    "    \"\"\"\n",
    "    if not (isinstance(keywords, str) or isinstance(keywords, list)):\n",
    "        raise AttributeError('keywords must be a string or a list of strings')\n",
    "        \n",
    "    if not (size in ['thumbnail', 'square', 'medium', 'original']):\n",
    "        raise AttributeError('size must be \"thumbnail\", \"square\", \"medium\" or \"original\"')\n",
    "                             \n",
    "    if not (max_nb_img == -1 or (max_nb_img > 0 and isinstance(max_nb_img, int))):\n",
    "        raise AttributeError('max_nb_img must be an integer greater than zero or equal to -1')\n",
    "    \n",
    "    flickr = FlickrAPI(config.get('API_KEY'), config.get('API_SECRET'))\n",
    "    \n",
    "    if isinstance(keywords, str):\n",
    "        keywords_list = []\n",
    "        keywords_list.append(keywords)\n",
    "    else:\n",
    "        keywords_list = keywords\n",
    "        \n",
    "    if size == 'thumbnail':\n",
    "        size_url = 'url_t'\n",
    "    elif size == 'square':\n",
    "        size_url = 'url_q'\n",
    "    elif size == 'medium':\n",
    "        size_url = 'url_c'\n",
    "    elif size == 'original':\n",
    "        size_url = 'url_o'\n",
    "    \n",
    "    for keyword in keywords_list:\n",
    "        count = 0\n",
    "                             \n",
    "        #print('Downloading images for', keyword)\n",
    "\n",
    "        results_folder = os.path.join(IMG_FOLDER, keyword.replace(\" \", \"_\"))\n",
    "        if not os.path.exists(results_folder):\n",
    "            os.makedirs(results_folder)\n",
    "\n",
    "        photos = flickr.walk(\n",
    "                     text=keyword,\n",
    "                     extras=size_url,\n",
    "                     license='1,2,4,5',\n",
    "                     per_page=50)\n",
    "        \n",
    "        urls = []\n",
    "        for photo in photos:\n",
    "            t = randint(1, 3)\n",
    "            time.sleep(t)\n",
    "            count += 1\n",
    "            if max_nb_img != -1:\n",
    "                if count > max_nb_img:\n",
    "                    print('Reached maximum number of images to download')\n",
    "                    break\n",
    "            try:\n",
    "                url=photo.get(size_url)\n",
    "                urls.append(url)\n",
    "                \n",
    "                urllib.request.urlretrieve(url,  os.path.join(results_folder,  str(count) + \".jpg\"))\n",
    "                print('Downloading image #' + str(count) + ' from url ' + url)\n",
    "            except Exception as e:\n",
    "                print(e, 'Download failure')\n",
    "                             \n",
    "        print(\"Total images downloaded:\", str(count - 1))"
   ]
  },
  {
   "cell_type": "code",
   "execution_count": 10,
   "metadata": {},
   "outputs": [
    {
     "name": "stdout",
     "output_type": "stream",
     "text": [
      "Downloading image #1 from url https://live.staticflickr.com/65535/50941954361_7e5a84368c_q.jpg\n",
      "Downloading image #2 from url https://live.staticflickr.com/65535/50941231148_f29225e5ed_q.jpg\n",
      "Reached maximum number of images to download\n",
      "Total images downloaded: 2\n",
      "Downloading image #1 from url https://live.staticflickr.com/65535/50942185102_f2c3cea1e5_q.jpg\n",
      "Downloading image #2 from url https://live.staticflickr.com/65535/50941801347_93bf5b83d8_q.jpg\n",
      "Reached maximum number of images to download\n",
      "Total images downloaded: 2\n",
      "Downloading image #1 from url https://live.staticflickr.com/65535/50941823246_7e101af63d_q.jpg\n",
      "Downloading image #2 from url https://live.staticflickr.com/65535/50941895922_e6dacc8413_q.jpg\n",
      "Reached maximum number of images to download\n",
      "Total images downloaded: 2\n",
      "Downloading image #1 from url https://live.staticflickr.com/65535/50940998708_d77c864ae6_q.jpg\n",
      "Downloading image #2 from url https://live.staticflickr.com/65535/50941801947_93bac6010d_q.jpg\n",
      "Reached maximum number of images to download\n",
      "Total images downloaded: 2\n"
     ]
    }
   ],
   "source": [
    "query = ['people', 'person', 'man', 'women']\n",
    "download_flickr_photos(query, size='square', max_nb_img=2)"
   ]
  },
  {
   "cell_type": "code",
   "execution_count": null,
   "metadata": {},
   "outputs": [],
   "source": []
  }
 ],
 "metadata": {
  "kernelspec": {
   "display_name": "tf2",
   "language": "python",
   "name": "tf2"
  },
  "language_info": {
   "codemirror_mode": {
    "name": "ipython",
    "version": 3
   },
   "file_extension": ".py",
   "mimetype": "text/x-python",
   "name": "python",
   "nbconvert_exporter": "python",
   "pygments_lexer": "ipython3",
   "version": "3.7.9"
  }
 },
 "nbformat": 4,
 "nbformat_minor": 4
}
